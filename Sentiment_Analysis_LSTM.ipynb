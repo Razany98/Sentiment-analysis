{
  "nbformat": 4,
  "nbformat_minor": 0,
  "metadata": {
    "colab": {
      "provenance": [],
      "gpuType": "T4"
    },
    "kernelspec": {
      "name": "python3",
      "display_name": "Python 3"
    },
    "language_info": {
      "name": "python"
    },
    "accelerator": "GPU"
  },
  "cells": [
    {
      "cell_type": "code",
      "execution_count": 3,
      "metadata": {
        "colab": {
          "base_uri": "https://localhost:8080/"
        },
        "id": "w1mxXm_n0IPS",
        "outputId": "60aa08b2-97a7-44bf-c3e5-ed87cf402e8b"
      },
      "outputs": [
        {
          "output_type": "stream",
          "name": "stdout",
          "text": [
            "Drive already mounted at /content/drive; to attempt to forcibly remount, call drive.mount(\"/content/drive\", force_remount=True).\n"
          ]
        }
      ],
      "source": [
        "from google.colab import drive\n",
        "drive.mount('/content/drive')"
      ]
    },
    {
      "cell_type": "markdown",
      "source": [
        "# Load the Dataset"
      ],
      "metadata": {
        "id": "JjuVXb6q0pii"
      }
    },
    {
      "cell_type": "code",
      "source": [
        "import pandas as pd\n",
        "import numpy as np"
      ],
      "metadata": {
        "id": "vnpmoqmr1VJ3"
      },
      "execution_count": 4,
      "outputs": []
    },
    {
      "cell_type": "markdown",
      "source": [
        "Create DataFrame as df ( Created by Pandas )"
      ],
      "metadata": {
        "id": "ubdOw37P1Jku"
      }
    },
    {
      "cell_type": "code",
      "source": [
        "## Load the datasets\n",
        "\n",
        "df_train = pd.read_csv('/content/drive/MyDrive/emotions-dataset-razan-nlp-new/train.txt', sep=';', header=None)\n",
        "df_valid = pd.read_csv('/content/drive/MyDrive/emotions-dataset-razan-nlp-new/val.txt', sep=';', header=None)\n",
        "df_test = pd.read_csv('/content/drive/MyDrive/emotions-dataset-razan-nlp-new/test.txt', sep=';', header=None)\n",
        "\n",
        "df_train.columns = ['text', 'emotion']\n",
        "df_valid.columns = ['text', 'emotion']\n",
        "df_test.columns = ['text', 'emotion']\n",
        "\n",
        "## Combine all dataset in one DF\n",
        "df = pd.concat((df_train, df_valid, df_test), axis=0)\n",
        "\n",
        "dataset = df[['emotion', 'text']]\n",
        "dataset"
      ],
      "metadata": {
        "id": "bI7xTHpIJABB",
        "colab": {
          "base_uri": "https://localhost:8080/",
          "height": 424
        },
        "outputId": "b2d4b6b4-c37b-465a-cf62-91259fc814a1"
      },
      "execution_count": 5,
      "outputs": [
        {
          "output_type": "execute_result",
          "data": {
            "text/plain": [
              "      emotion                                               text\n",
              "0     sadness                            i didnt feel humiliated\n",
              "1     sadness  i can go from feeling so hopeless to so damned...\n",
              "2       anger   im grabbing a minute to post i feel greedy wrong\n",
              "3        love  i am ever feeling nostalgic about the fireplac...\n",
              "4       anger                               i am feeling grouchy\n",
              "...       ...                                                ...\n",
              "1995    anger  i just keep feeling like someone is being unki...\n",
              "1996    anger  im feeling a little cranky negative after this...\n",
              "1997      joy  i feel that i am useful to my people and that ...\n",
              "1998      joy  im feeling more comfortable with derby i feel ...\n",
              "1999     fear  i feel all weird when i have to meet w people ...\n",
              "\n",
              "[20000 rows x 2 columns]"
            ],
            "text/html": [
              "\n",
              "  <div id=\"df-3aca185f-ab9f-485a-bb49-977d1369cd65\" class=\"colab-df-container\">\n",
              "    <div>\n",
              "<style scoped>\n",
              "    .dataframe tbody tr th:only-of-type {\n",
              "        vertical-align: middle;\n",
              "    }\n",
              "\n",
              "    .dataframe tbody tr th {\n",
              "        vertical-align: top;\n",
              "    }\n",
              "\n",
              "    .dataframe thead th {\n",
              "        text-align: right;\n",
              "    }\n",
              "</style>\n",
              "<table border=\"1\" class=\"dataframe\">\n",
              "  <thead>\n",
              "    <tr style=\"text-align: right;\">\n",
              "      <th></th>\n",
              "      <th>emotion</th>\n",
              "      <th>text</th>\n",
              "    </tr>\n",
              "  </thead>\n",
              "  <tbody>\n",
              "    <tr>\n",
              "      <th>0</th>\n",
              "      <td>sadness</td>\n",
              "      <td>i didnt feel humiliated</td>\n",
              "    </tr>\n",
              "    <tr>\n",
              "      <th>1</th>\n",
              "      <td>sadness</td>\n",
              "      <td>i can go from feeling so hopeless to so damned...</td>\n",
              "    </tr>\n",
              "    <tr>\n",
              "      <th>2</th>\n",
              "      <td>anger</td>\n",
              "      <td>im grabbing a minute to post i feel greedy wrong</td>\n",
              "    </tr>\n",
              "    <tr>\n",
              "      <th>3</th>\n",
              "      <td>love</td>\n",
              "      <td>i am ever feeling nostalgic about the fireplac...</td>\n",
              "    </tr>\n",
              "    <tr>\n",
              "      <th>4</th>\n",
              "      <td>anger</td>\n",
              "      <td>i am feeling grouchy</td>\n",
              "    </tr>\n",
              "    <tr>\n",
              "      <th>...</th>\n",
              "      <td>...</td>\n",
              "      <td>...</td>\n",
              "    </tr>\n",
              "    <tr>\n",
              "      <th>1995</th>\n",
              "      <td>anger</td>\n",
              "      <td>i just keep feeling like someone is being unki...</td>\n",
              "    </tr>\n",
              "    <tr>\n",
              "      <th>1996</th>\n",
              "      <td>anger</td>\n",
              "      <td>im feeling a little cranky negative after this...</td>\n",
              "    </tr>\n",
              "    <tr>\n",
              "      <th>1997</th>\n",
              "      <td>joy</td>\n",
              "      <td>i feel that i am useful to my people and that ...</td>\n",
              "    </tr>\n",
              "    <tr>\n",
              "      <th>1998</th>\n",
              "      <td>joy</td>\n",
              "      <td>im feeling more comfortable with derby i feel ...</td>\n",
              "    </tr>\n",
              "    <tr>\n",
              "      <th>1999</th>\n",
              "      <td>fear</td>\n",
              "      <td>i feel all weird when i have to meet w people ...</td>\n",
              "    </tr>\n",
              "  </tbody>\n",
              "</table>\n",
              "<p>20000 rows × 2 columns</p>\n",
              "</div>\n",
              "    <div class=\"colab-df-buttons\">\n",
              "\n",
              "  <div class=\"colab-df-container\">\n",
              "    <button class=\"colab-df-convert\" onclick=\"convertToInteractive('df-3aca185f-ab9f-485a-bb49-977d1369cd65')\"\n",
              "            title=\"Convert this dataframe to an interactive table.\"\n",
              "            style=\"display:none;\">\n",
              "\n",
              "  <svg xmlns=\"http://www.w3.org/2000/svg\" height=\"24px\" viewBox=\"0 -960 960 960\">\n",
              "    <path d=\"M120-120v-720h720v720H120Zm60-500h600v-160H180v160Zm220 220h160v-160H400v160Zm0 220h160v-160H400v160ZM180-400h160v-160H180v160Zm440 0h160v-160H620v160ZM180-180h160v-160H180v160Zm440 0h160v-160H620v160Z\"/>\n",
              "  </svg>\n",
              "    </button>\n",
              "\n",
              "  <style>\n",
              "    .colab-df-container {\n",
              "      display:flex;\n",
              "      gap: 12px;\n",
              "    }\n",
              "\n",
              "    .colab-df-convert {\n",
              "      background-color: #E8F0FE;\n",
              "      border: none;\n",
              "      border-radius: 50%;\n",
              "      cursor: pointer;\n",
              "      display: none;\n",
              "      fill: #1967D2;\n",
              "      height: 32px;\n",
              "      padding: 0 0 0 0;\n",
              "      width: 32px;\n",
              "    }\n",
              "\n",
              "    .colab-df-convert:hover {\n",
              "      background-color: #E2EBFA;\n",
              "      box-shadow: 0px 1px 2px rgba(60, 64, 67, 0.3), 0px 1px 3px 1px rgba(60, 64, 67, 0.15);\n",
              "      fill: #174EA6;\n",
              "    }\n",
              "\n",
              "    .colab-df-buttons div {\n",
              "      margin-bottom: 4px;\n",
              "    }\n",
              "\n",
              "    [theme=dark] .colab-df-convert {\n",
              "      background-color: #3B4455;\n",
              "      fill: #D2E3FC;\n",
              "    }\n",
              "\n",
              "    [theme=dark] .colab-df-convert:hover {\n",
              "      background-color: #434B5C;\n",
              "      box-shadow: 0px 1px 3px 1px rgba(0, 0, 0, 0.15);\n",
              "      filter: drop-shadow(0px 1px 2px rgba(0, 0, 0, 0.3));\n",
              "      fill: #FFFFFF;\n",
              "    }\n",
              "  </style>\n",
              "\n",
              "    <script>\n",
              "      const buttonEl =\n",
              "        document.querySelector('#df-3aca185f-ab9f-485a-bb49-977d1369cd65 button.colab-df-convert');\n",
              "      buttonEl.style.display =\n",
              "        google.colab.kernel.accessAllowed ? 'block' : 'none';\n",
              "\n",
              "      async function convertToInteractive(key) {\n",
              "        const element = document.querySelector('#df-3aca185f-ab9f-485a-bb49-977d1369cd65');\n",
              "        const dataTable =\n",
              "          await google.colab.kernel.invokeFunction('convertToInteractive',\n",
              "                                                    [key], {});\n",
              "        if (!dataTable) return;\n",
              "\n",
              "        const docLinkHtml = 'Like what you see? Visit the ' +\n",
              "          '<a target=\"_blank\" href=https://colab.research.google.com/notebooks/data_table.ipynb>data table notebook</a>'\n",
              "          + ' to learn more about interactive tables.';\n",
              "        element.innerHTML = '';\n",
              "        dataTable['output_type'] = 'display_data';\n",
              "        await google.colab.output.renderOutput(dataTable, element);\n",
              "        const docLink = document.createElement('div');\n",
              "        docLink.innerHTML = docLinkHtml;\n",
              "        element.appendChild(docLink);\n",
              "      }\n",
              "    </script>\n",
              "  </div>\n",
              "\n",
              "\n",
              "<div id=\"df-98c32f5a-13af-40f6-85e7-7c1d27becc7a\">\n",
              "  <button class=\"colab-df-quickchart\" onclick=\"quickchart('df-98c32f5a-13af-40f6-85e7-7c1d27becc7a')\"\n",
              "            title=\"Suggest charts\"\n",
              "            style=\"display:none;\">\n",
              "\n",
              "<svg xmlns=\"http://www.w3.org/2000/svg\" height=\"24px\"viewBox=\"0 0 24 24\"\n",
              "     width=\"24px\">\n",
              "    <g>\n",
              "        <path d=\"M19 3H5c-1.1 0-2 .9-2 2v14c0 1.1.9 2 2 2h14c1.1 0 2-.9 2-2V5c0-1.1-.9-2-2-2zM9 17H7v-7h2v7zm4 0h-2V7h2v10zm4 0h-2v-4h2v4z\"/>\n",
              "    </g>\n",
              "</svg>\n",
              "  </button>\n",
              "\n",
              "<style>\n",
              "  .colab-df-quickchart {\n",
              "      --bg-color: #E8F0FE;\n",
              "      --fill-color: #1967D2;\n",
              "      --hover-bg-color: #E2EBFA;\n",
              "      --hover-fill-color: #174EA6;\n",
              "      --disabled-fill-color: #AAA;\n",
              "      --disabled-bg-color: #DDD;\n",
              "  }\n",
              "\n",
              "  [theme=dark] .colab-df-quickchart {\n",
              "      --bg-color: #3B4455;\n",
              "      --fill-color: #D2E3FC;\n",
              "      --hover-bg-color: #434B5C;\n",
              "      --hover-fill-color: #FFFFFF;\n",
              "      --disabled-bg-color: #3B4455;\n",
              "      --disabled-fill-color: #666;\n",
              "  }\n",
              "\n",
              "  .colab-df-quickchart {\n",
              "    background-color: var(--bg-color);\n",
              "    border: none;\n",
              "    border-radius: 50%;\n",
              "    cursor: pointer;\n",
              "    display: none;\n",
              "    fill: var(--fill-color);\n",
              "    height: 32px;\n",
              "    padding: 0;\n",
              "    width: 32px;\n",
              "  }\n",
              "\n",
              "  .colab-df-quickchart:hover {\n",
              "    background-color: var(--hover-bg-color);\n",
              "    box-shadow: 0 1px 2px rgba(60, 64, 67, 0.3), 0 1px 3px 1px rgba(60, 64, 67, 0.15);\n",
              "    fill: var(--button-hover-fill-color);\n",
              "  }\n",
              "\n",
              "  .colab-df-quickchart-complete:disabled,\n",
              "  .colab-df-quickchart-complete:disabled:hover {\n",
              "    background-color: var(--disabled-bg-color);\n",
              "    fill: var(--disabled-fill-color);\n",
              "    box-shadow: none;\n",
              "  }\n",
              "\n",
              "  .colab-df-spinner {\n",
              "    border: 2px solid var(--fill-color);\n",
              "    border-color: transparent;\n",
              "    border-bottom-color: var(--fill-color);\n",
              "    animation:\n",
              "      spin 1s steps(1) infinite;\n",
              "  }\n",
              "\n",
              "  @keyframes spin {\n",
              "    0% {\n",
              "      border-color: transparent;\n",
              "      border-bottom-color: var(--fill-color);\n",
              "      border-left-color: var(--fill-color);\n",
              "    }\n",
              "    20% {\n",
              "      border-color: transparent;\n",
              "      border-left-color: var(--fill-color);\n",
              "      border-top-color: var(--fill-color);\n",
              "    }\n",
              "    30% {\n",
              "      border-color: transparent;\n",
              "      border-left-color: var(--fill-color);\n",
              "      border-top-color: var(--fill-color);\n",
              "      border-right-color: var(--fill-color);\n",
              "    }\n",
              "    40% {\n",
              "      border-color: transparent;\n",
              "      border-right-color: var(--fill-color);\n",
              "      border-top-color: var(--fill-color);\n",
              "    }\n",
              "    60% {\n",
              "      border-color: transparent;\n",
              "      border-right-color: var(--fill-color);\n",
              "    }\n",
              "    80% {\n",
              "      border-color: transparent;\n",
              "      border-right-color: var(--fill-color);\n",
              "      border-bottom-color: var(--fill-color);\n",
              "    }\n",
              "    90% {\n",
              "      border-color: transparent;\n",
              "      border-bottom-color: var(--fill-color);\n",
              "    }\n",
              "  }\n",
              "</style>\n",
              "\n",
              "  <script>\n",
              "    async function quickchart(key) {\n",
              "      const quickchartButtonEl =\n",
              "        document.querySelector('#' + key + ' button');\n",
              "      quickchartButtonEl.disabled = true;  // To prevent multiple clicks.\n",
              "      quickchartButtonEl.classList.add('colab-df-spinner');\n",
              "      try {\n",
              "        const charts = await google.colab.kernel.invokeFunction(\n",
              "            'suggestCharts', [key], {});\n",
              "      } catch (error) {\n",
              "        console.error('Error during call to suggestCharts:', error);\n",
              "      }\n",
              "      quickchartButtonEl.classList.remove('colab-df-spinner');\n",
              "      quickchartButtonEl.classList.add('colab-df-quickchart-complete');\n",
              "    }\n",
              "    (() => {\n",
              "      let quickchartButtonEl =\n",
              "        document.querySelector('#df-98c32f5a-13af-40f6-85e7-7c1d27becc7a button');\n",
              "      quickchartButtonEl.style.display =\n",
              "        google.colab.kernel.accessAllowed ? 'block' : 'none';\n",
              "    })();\n",
              "  </script>\n",
              "</div>\n",
              "    </div>\n",
              "  </div>\n"
            ]
          },
          "metadata": {},
          "execution_count": 5
        }
      ]
    },
    {
      "cell_type": "markdown",
      "source": [
        "# Pre - Processing"
      ],
      "metadata": {
        "id": "eFPOrhvb1VH9"
      }
    },
    {
      "cell_type": "code",
      "source": [
        "import matplotlib.pyplot as plt\n",
        "import seaborn as sns"
      ],
      "metadata": {
        "id": "EQ1TYFCX1X9A"
      },
      "execution_count": 6,
      "outputs": []
    },
    {
      "cell_type": "code",
      "source": [
        "print('The Shape of the Dataset is: ', df.shape)"
      ],
      "metadata": {
        "colab": {
          "base_uri": "https://localhost:8080/"
        },
        "id": "bEX11aT81b65",
        "outputId": "004b4e38-1126-4cd4-cadc-a7d7610132f1"
      },
      "execution_count": 7,
      "outputs": [
        {
          "output_type": "stream",
          "name": "stdout",
          "text": [
            "The Shape of the Dataset is:  (20000, 2)\n"
          ]
        }
      ]
    },
    {
      "cell_type": "code",
      "source": [
        "## Check the info\n",
        "df.info()"
      ],
      "metadata": {
        "colab": {
          "base_uri": "https://localhost:8080/"
        },
        "id": "jB6LcLYj1ezl",
        "outputId": "3dd23b53-a1b2-4c69-e7ad-ced8ced5c2f5"
      },
      "execution_count": 8,
      "outputs": [
        {
          "output_type": "stream",
          "name": "stdout",
          "text": [
            "<class 'pandas.core.frame.DataFrame'>\n",
            "Int64Index: 20000 entries, 0 to 1999\n",
            "Data columns (total 2 columns):\n",
            " #   Column   Non-Null Count  Dtype \n",
            "---  ------   --------------  ----- \n",
            " 0   text     20000 non-null  object\n",
            " 1   emotion  20000 non-null  object\n",
            "dtypes: object(2)\n",
            "memory usage: 468.8+ KB\n"
          ]
        }
      ]
    },
    {
      "cell_type": "markdown",
      "source": [
        "##### look for null falues"
      ],
      "metadata": {
        "id": "GV1drzMV1iGY"
      }
    },
    {
      "cell_type": "code",
      "source": [
        "df.isna().sum()"
      ],
      "metadata": {
        "colab": {
          "base_uri": "https://localhost:8080/"
        },
        "id": "Im6uK8gz1kYy",
        "outputId": "09704b9d-4818-44c8-bfb9-e73f9f0c42d7"
      },
      "execution_count": 9,
      "outputs": [
        {
          "output_type": "execute_result",
          "data": {
            "text/plain": [
              "text       0\n",
              "emotion    0\n",
              "dtype: int64"
            ]
          },
          "metadata": {},
          "execution_count": 9
        }
      ]
    },
    {
      "cell_type": "markdown",
      "source": [
        "##### Look for duplicate values"
      ],
      "metadata": {
        "id": "1sq9PrwH1scu"
      }
    },
    {
      "cell_type": "code",
      "source": [
        "df.duplicated()"
      ],
      "metadata": {
        "colab": {
          "base_uri": "https://localhost:8080/"
        },
        "id": "Pd1s3vIX1uY1",
        "outputId": "200f037c-add1-4715-8b02-f0f8b5f5a696"
      },
      "execution_count": 10,
      "outputs": [
        {
          "output_type": "execute_result",
          "data": {
            "text/plain": [
              "0       False\n",
              "1       False\n",
              "2       False\n",
              "3       False\n",
              "4       False\n",
              "        ...  \n",
              "1995    False\n",
              "1996    False\n",
              "1997    False\n",
              "1998    False\n",
              "1999    False\n",
              "Length: 20000, dtype: bool"
            ]
          },
          "metadata": {},
          "execution_count": 10
        }
      ]
    },
    {
      "cell_type": "code",
      "source": [
        "## Check the Traget values\n",
        "df['emotion'].unique()"
      ],
      "metadata": {
        "colab": {
          "base_uri": "https://localhost:8080/"
        },
        "id": "m2zGzwCz1zAr",
        "outputId": "0ffa17f2-0ec5-4b5f-973f-84a168f2e75a"
      },
      "execution_count": 11,
      "outputs": [
        {
          "output_type": "execute_result",
          "data": {
            "text/plain": [
              "array(['sadness', 'anger', 'love', 'surprise', 'fear', 'joy'],\n",
              "      dtype=object)"
            ]
          },
          "metadata": {},
          "execution_count": 11
        }
      ]
    },
    {
      "cell_type": "code",
      "source": [
        "## Distribution of target\n",
        "df['emotion'].value_counts()  ## imblanced dataset"
      ],
      "metadata": {
        "colab": {
          "base_uri": "https://localhost:8080/"
        },
        "id": "UpRb-_E1111a",
        "outputId": "6bc5a57f-a238-408e-a366-ef2d2a607a99"
      },
      "execution_count": 12,
      "outputs": [
        {
          "output_type": "execute_result",
          "data": {
            "text/plain": [
              "joy         6761\n",
              "sadness     5797\n",
              "anger       2709\n",
              "fear        2373\n",
              "love        1641\n",
              "surprise     719\n",
              "Name: emotion, dtype: int64"
            ]
          },
          "metadata": {},
          "execution_count": 12
        }
      ]
    },
    {
      "cell_type": "code",
      "source": [
        "## countplot of target\n",
        "plt.figure(figsize=(10, 6))\n",
        "sns.countplot(data=df, x='emotion')\n",
        "plt.title('Distribution of the emotions in the Dataset', fontsize=14, c='k')\n",
        "plt.xlabel('emotion', c='k', fontsize=12)\n",
        "plt.ylabel('Count', c='k', fontsize=12)\n",
        "plt.show()"
      ],
      "metadata": {
        "colab": {
          "base_uri": "https://localhost:8080/",
          "height": 569
        },
        "id": "CKM4MUA-15RK",
        "outputId": "3e0a4c3e-798e-48e3-9c5a-9518838c0a3c"
      },
      "execution_count": 13,
      "outputs": [
        {
          "output_type": "display_data",
          "data": {
            "text/plain": [
              "<Figure size 1000x600 with 1 Axes>"
            ],
            "image/png": "[encoded data removed]"
          },
          "metadata": {}
        }
      ]
    },
    {
      "cell_type": "code",
      "source": [
        "# A piechart for understanding the proportion\n",
        "plt.figure(figsize=(6, 6))\n",
        "plt.pie(df['emotion'].value_counts().values, labels=df['emotion'].value_counts().index, autopct='%1.1f%%', startangle=140,\n",
        "        colors=sns.color_palette('viridis', len(df['emotion'].value_counts().index)))\n",
        "plt.title('Distribution of Emotions')\n",
        "plt.show()"
      ],
      "metadata": {
        "colab": {
          "base_uri": "https://localhost:8080/",
          "height": 521
        },
        "id": "N6x-6h_W18Id",
        "outputId": "133c493d-20ce-4335-f3e1-e1ac3848a59a"
      },
      "execution_count": 14,
      "outputs": [
        {
          "output_type": "display_data",
          "data": {
            "text/plain": [
              "<Figure size 600x600 with 1 Axes>"
            ],
            "image/png": "[encoded data removed]"
          },
          "metadata": {}
        }
      ]
    },
    {
      "cell_type": "code",
      "source": [
        "## Check Length\n",
        "length_text = dataset['text'].str.len()\n",
        "## Plotting\n",
        "plt.figure(figsize=(10, 6))\n",
        "plt.hist(length_text, bins=50)\n",
        "plt.title('Length of Text')\n",
        "plt.xlabel('Texts Length')\n",
        "plt.ylabel('Frequency')\n",
        "plt.show()"
      ],
      "metadata": {
        "colab": {
          "base_uri": "https://localhost:8080/",
          "height": 564
        },
        "id": "KsGb8lJt2F5A",
        "outputId": "0622f6a5-3a9d-4d14-d4c8-f73992ff40a7"
      },
      "execution_count": 15,
      "outputs": [
        {
          "output_type": "display_data",
          "data": {
            "text/plain": [
              "<Figure size 1000x600 with 1 Axes>"
            ],
            "image/png": "[encoded data removed]"
          },
          "metadata": {}
        }
      ]
    },
    {
      "cell_type": "markdown",
      "source": [
        "## Text cleaning"
      ],
      "metadata": {
        "id": "DmrG90z52Krq"
      }
    },
    {
      "cell_type": "markdown",
      "source": [
        "#### Removing stopwords"
      ],
      "metadata": {
        "id": "I_qRMnAM21re"
      }
    },
    {
      "cell_type": "code",
      "source": [
        "import re"
      ],
      "metadata": {
        "id": "fU7QKvp923we"
      },
      "execution_count": 16,
      "outputs": []
    },
    {
      "cell_type": "code",
      "source": [
        "def remove_numeric(texts):\n",
        "    nums = re.compile(r\"\\d\")\n",
        "    return nums.sub(r\"\",texts)\n",
        "\n",
        "def remove_punct(texts):\n",
        "    table = str.maketrans(\"\",\"\",string.punctuation)\n",
        "    return texts.translate(table)\n",
        "\n",
        "def remove_stopwords(texts):\n",
        "    stop = stopwords.words(\"english\")\n",
        "\n",
        "    texts = [word.lower() for word in  texts.split(\" \") if word not in stop]\n",
        "    return  \" \".join(texts)"
      ],
      "metadata": {
        "id": "MDhUtaPC26IU"
      },
      "execution_count": 17,
      "outputs": []
    },
    {
      "cell_type": "code",
      "source": [
        "# changing the data type to the category to encode into codes\n",
        "df['emotion'] = df.emotion.astype('category')"
      ],
      "metadata": {
        "id": "gTtVDjjJ3eFf"
      },
      "execution_count": 18,
      "outputs": []
    },
    {
      "cell_type": "code",
      "source": [
        "df.emotion"
      ],
      "metadata": {
        "colab": {
          "base_uri": "https://localhost:8080/"
        },
        "id": "tgR0Dsoq3nb0",
        "outputId": "01cf94e7-1f9f-420e-9d95-ab002b302d49"
      },
      "execution_count": 19,
      "outputs": [
        {
          "output_type": "execute_result",
          "data": {
            "text/plain": [
              "0       sadness\n",
              "1       sadness\n",
              "2         anger\n",
              "3          love\n",
              "4         anger\n",
              "         ...   \n",
              "1995      anger\n",
              "1996      anger\n",
              "1997        joy\n",
              "1998        joy\n",
              "1999       fear\n",
              "Name: emotion, Length: 20000, dtype: category\n",
              "Categories (6, object): ['anger', 'fear', 'joy', 'love', 'sadness', 'surprise']"
            ]
          },
          "metadata": {},
          "execution_count": 19
        }
      ]
    },
    {
      "cell_type": "code",
      "source": [
        "from sklearn.preprocessing import LabelEncoder\n",
        "lbl_enc = LabelEncoder()\n",
        "lbl_enc.fit(df['emotion'])\n",
        "\n",
        "## Transform\n",
        "df['emotion'] = lbl_enc.transform(df['emotion'])"
      ],
      "metadata": {
        "id": "1Lq-tnj1hmGS"
      },
      "execution_count": 20,
      "outputs": []
    },
    {
      "cell_type": "code",
      "source": [
        "df"
      ],
      "metadata": {
        "colab": {
          "base_uri": "https://localhost:8080/",
          "height": 424
        },
        "id": "NUkCJ8hf4Dcy",
        "outputId": "ec36f1dc-5a0c-4e55-e169-30c0387a97d3"
      },
      "execution_count": 21,
      "outputs": [
        {
          "output_type": "execute_result",
          "data": {
            "text/plain": [
              "                                                   text  emotion\n",
              "0                               i didnt feel humiliated        4\n",
              "1     i can go from feeling so hopeless to so damned...        4\n",
              "2      im grabbing a minute to post i feel greedy wrong        0\n",
              "3     i am ever feeling nostalgic about the fireplac...        3\n",
              "4                                  i am feeling grouchy        0\n",
              "...                                                 ...      ...\n",
              "1995  i just keep feeling like someone is being unki...        0\n",
              "1996  im feeling a little cranky negative after this...        0\n",
              "1997  i feel that i am useful to my people and that ...        2\n",
              "1998  im feeling more comfortable with derby i feel ...        2\n",
              "1999  i feel all weird when i have to meet w people ...        1\n",
              "\n",
              "[20000 rows x 2 columns]"
            ],
            "text/html": [
              "\n",
              "  <div id=\"df-3de58754-095d-4f76-92e8-5bf905382a7d\" class=\"colab-df-container\">\n",
              "    <div>\n",
              "<style scoped>\n",
              "    .dataframe tbody tr th:only-of-type {\n",
              "        vertical-align: middle;\n",
              "    }\n",
              "\n",
              "    .dataframe tbody tr th {\n",
              "        vertical-align: top;\n",
              "    }\n",
              "\n",
              "    .dataframe thead th {\n",
              "        text-align: right;\n",
              "    }\n",
              "</style>\n",
              "<table border=\"1\" class=\"dataframe\">\n",
              "  <thead>\n",
              "    <tr style=\"text-align: right;\">\n",
              "      <th></th>\n",
              "      <th>text</th>\n",
              "      <th>emotion</th>\n",
              "    </tr>\n",
              "  </thead>\n",
              "  <tbody>\n",
              "    <tr>\n",
              "      <th>0</th>\n",
              "      <td>i didnt feel humiliated</td>\n",
              "      <td>4</td>\n",
              "    </tr>\n",
              "    <tr>\n",
              "      <th>1</th>\n",
              "      <td>i can go from feeling so hopeless to so damned...</td>\n",
              "      <td>4</td>\n",
              "    </tr>\n",
              "    <tr>\n",
              "      <th>2</th>\n",
              "      <td>im grabbing a minute to post i feel greedy wrong</td>\n",
              "      <td>0</td>\n",
              "    </tr>\n",
              "    <tr>\n",
              "      <th>3</th>\n",
              "      <td>i am ever feeling nostalgic about the fireplac...</td>\n",
              "      <td>3</td>\n",
              "    </tr>\n",
              "    <tr>\n",
              "      <th>4</th>\n",
              "      <td>i am feeling grouchy</td>\n",
              "      <td>0</td>\n",
              "    </tr>\n",
              "    <tr>\n",
              "      <th>...</th>\n",
              "      <td>...</td>\n",
              "      <td>...</td>\n",
              "    </tr>\n",
              "    <tr>\n",
              "      <th>1995</th>\n",
              "      <td>i just keep feeling like someone is being unki...</td>\n",
              "      <td>0</td>\n",
              "    </tr>\n",
              "    <tr>\n",
              "      <th>1996</th>\n",
              "      <td>im feeling a little cranky negative after this...</td>\n",
              "      <td>0</td>\n",
              "    </tr>\n",
              "    <tr>\n",
              "      <th>1997</th>\n",
              "      <td>i feel that i am useful to my people and that ...</td>\n",
              "      <td>2</td>\n",
              "    </tr>\n",
              "    <tr>\n",
              "      <th>1998</th>\n",
              "      <td>im feeling more comfortable with derby i feel ...</td>\n",
              "      <td>2</td>\n",
              "    </tr>\n",
              "    <tr>\n",
              "      <th>1999</th>\n",
              "      <td>i feel all weird when i have to meet w people ...</td>\n",
              "      <td>1</td>\n",
              "    </tr>\n",
              "  </tbody>\n",
              "</table>\n",
              "<p>20000 rows × 2 columns</p>\n",
              "</div>\n",
              "    <div class=\"colab-df-buttons\">\n",
              "\n",
              "  <div class=\"colab-df-container\">\n",
              "    <button class=\"colab-df-convert\" onclick=\"convertToInteractive('df-3de58754-095d-4f76-92e8-5bf905382a7d')\"\n",
              "            title=\"Convert this dataframe to an interactive table.\"\n",
              "            style=\"display:none;\">\n",
              "\n",
              "  <svg xmlns=\"http://www.w3.org/2000/svg\" height=\"24px\" viewBox=\"0 -960 960 960\">\n",
              "    <path d=\"M120-120v-720h720v720H120Zm60-500h600v-160H180v160Zm220 220h160v-160H400v160Zm0 220h160v-160H400v160ZM180-400h160v-160H180v160Zm440 0h160v-160H620v160ZM180-180h160v-160H180v160Zm440 0h160v-160H620v160Z\"/>\n",
              "  </svg>\n",
              "    </button>\n",
              "\n",
              "  <style>\n",
              "    .colab-df-container {\n",
              "      display:flex;\n",
              "      gap: 12px;\n",
              "    }\n",
              "\n",
              "    .colab-df-convert {\n",
              "      background-color: #E8F0FE;\n",
              "      border: none;\n",
              "      border-radius: 50%;\n",
              "      cursor: pointer;\n",
              "      display: none;\n",
              "      fill: #1967D2;\n",
              "      height: 32px;\n",
              "      padding: 0 0 0 0;\n",
              "      width: 32px;\n",
              "    }\n",
              "\n",
              "    .colab-df-convert:hover {\n",
              "      background-color: #E2EBFA;\n",
              "      box-shadow: 0px 1px 2px rgba(60, 64, 67, 0.3), 0px 1px 3px 1px rgba(60, 64, 67, 0.15);\n",
              "      fill: #174EA6;\n",
              "    }\n",
              "\n",
              "    .colab-df-buttons div {\n",
              "      margin-bottom: 4px;\n",
              "    }\n",
              "\n",
              "    [theme=dark] .colab-df-convert {\n",
              "      background-color: #3B4455;\n",
              "      fill: #D2E3FC;\n",
              "    }\n",
              "\n",
              "    [theme=dark] .colab-df-convert:hover {\n",
              "      background-color: #434B5C;\n",
              "      box-shadow: 0px 1px 3px 1px rgba(0, 0, 0, 0.15);\n",
              "      filter: drop-shadow(0px 1px 2px rgba(0, 0, 0, 0.3));\n",
              "      fill: #FFFFFF;\n",
              "    }\n",
              "  </style>\n",
              "\n",
              "    <script>\n",
              "      const buttonEl =\n",
              "        document.querySelector('#df-3de58754-095d-4f76-92e8-5bf905382a7d button.colab-df-convert');\n",
              "      buttonEl.style.display =\n",
              "        google.colab.kernel.accessAllowed ? 'block' : 'none';\n",
              "\n",
              "      async function convertToInteractive(key) {\n",
              "        const element = document.querySelector('#df-3de58754-095d-4f76-92e8-5bf905382a7d');\n",
              "        const dataTable =\n",
              "          await google.colab.kernel.invokeFunction('convertToInteractive',\n",
              "                                                    [key], {});\n",
              "        if (!dataTable) return;\n",
              "\n",
              "        const docLinkHtml = 'Like what you see? Visit the ' +\n",
              "          '<a target=\"_blank\" href=https://colab.research.google.com/notebooks/data_table.ipynb>data table notebook</a>'\n",
              "          + ' to learn more about interactive tables.';\n",
              "        element.innerHTML = '';\n",
              "        dataTable['output_type'] = 'display_data';\n",
              "        await google.colab.output.renderOutput(dataTable, element);\n",
              "        const docLink = document.createElement('div');\n",
              "        docLink.innerHTML = docLinkHtml;\n",
              "        element.appendChild(docLink);\n",
              "      }\n",
              "    </script>\n",
              "  </div>\n",
              "\n",
              "\n",
              "<div id=\"df-6d18425e-1956-4ff0-b9ce-069b3f1972b2\">\n",
              "  <button class=\"colab-df-quickchart\" onclick=\"quickchart('df-6d18425e-1956-4ff0-b9ce-069b3f1972b2')\"\n",
              "            title=\"Suggest charts\"\n",
              "            style=\"display:none;\">\n",
              "\n",
              "<svg xmlns=\"http://www.w3.org/2000/svg\" height=\"24px\"viewBox=\"0 0 24 24\"\n",
              "     width=\"24px\">\n",
              "    <g>\n",
              "        <path d=\"M19 3H5c-1.1 0-2 .9-2 2v14c0 1.1.9 2 2 2h14c1.1 0 2-.9 2-2V5c0-1.1-.9-2-2-2zM9 17H7v-7h2v7zm4 0h-2V7h2v10zm4 0h-2v-4h2v4z\"/>\n",
              "    </g>\n",
              "</svg>\n",
              "  </button>\n",
              "\n",
              "<style>\n",
              "  .colab-df-quickchart {\n",
              "      --bg-color: #E8F0FE;\n",
              "      --fill-color: #1967D2;\n",
              "      --hover-bg-color: #E2EBFA;\n",
              "      --hover-fill-color: #174EA6;\n",
              "      --disabled-fill-color: #AAA;\n",
              "      --disabled-bg-color: #DDD;\n",
              "  }\n",
              "\n",
              "  [theme=dark] .colab-df-quickchart {\n",
              "      --bg-color: #3B4455;\n",
              "      --fill-color: #D2E3FC;\n",
              "      --hover-bg-color: #434B5C;\n",
              "      --hover-fill-color: #FFFFFF;\n",
              "      --disabled-bg-color: #3B4455;\n",
              "      --disabled-fill-color: #666;\n",
              "  }\n",
              "\n",
              "  .colab-df-quickchart {\n",
              "    background-color: var(--bg-color);\n",
              "    border: none;\n",
              "    border-radius: 50%;\n",
              "    cursor: pointer;\n",
              "    display: none;\n",
              "    fill: var(--fill-color);\n",
              "    height: 32px;\n",
              "    padding: 0;\n",
              "    width: 32px;\n",
              "  }\n",
              "\n",
              "  .colab-df-quickchart:hover {\n",
              "    background-color: var(--hover-bg-color);\n",
              "    box-shadow: 0 1px 2px rgba(60, 64, 67, 0.3), 0 1px 3px 1px rgba(60, 64, 67, 0.15);\n",
              "    fill: var(--button-hover-fill-color);\n",
              "  }\n",
              "\n",
              "  .colab-df-quickchart-complete:disabled,\n",
              "  .colab-df-quickchart-complete:disabled:hover {\n",
              "    background-color: var(--disabled-bg-color);\n",
              "    fill: var(--disabled-fill-color);\n",
              "    box-shadow: none;\n",
              "  }\n",
              "\n",
              "  .colab-df-spinner {\n",
              "    border: 2px solid var(--fill-color);\n",
              "    border-color: transparent;\n",
              "    border-bottom-color: var(--fill-color);\n",
              "    animation:\n",
              "      spin 1s steps(1) infinite;\n",
              "  }\n",
              "\n",
              "  @keyframes spin {\n",
              "    0% {\n",
              "      border-color: transparent;\n",
              "      border-bottom-color: var(--fill-color);\n",
              "      border-left-color: var(--fill-color);\n",
              "    }\n",
              "    20% {\n",
              "      border-color: transparent;\n",
              "      border-left-color: var(--fill-color);\n",
              "      border-top-color: var(--fill-color);\n",
              "    }\n",
              "    30% {\n",
              "      border-color: transparent;\n",
              "      border-left-color: var(--fill-color);\n",
              "      border-top-color: var(--fill-color);\n",
              "      border-right-color: var(--fill-color);\n",
              "    }\n",
              "    40% {\n",
              "      border-color: transparent;\n",
              "      border-right-color: var(--fill-color);\n",
              "      border-top-color: var(--fill-color);\n",
              "    }\n",
              "    60% {\n",
              "      border-color: transparent;\n",
              "      border-right-color: var(--fill-color);\n",
              "    }\n",
              "    80% {\n",
              "      border-color: transparent;\n",
              "      border-right-color: var(--fill-color);\n",
              "      border-bottom-color: var(--fill-color);\n",
              "    }\n",
              "    90% {\n",
              "      border-color: transparent;\n",
              "      border-bottom-color: var(--fill-color);\n",
              "    }\n",
              "  }\n",
              "</style>\n",
              "\n",
              "  <script>\n",
              "    async function quickchart(key) {\n",
              "      const quickchartButtonEl =\n",
              "        document.querySelector('#' + key + ' button');\n",
              "      quickchartButtonEl.disabled = true;  // To prevent multiple clicks.\n",
              "      quickchartButtonEl.classList.add('colab-df-spinner');\n",
              "      try {\n",
              "        const charts = await google.colab.kernel.invokeFunction(\n",
              "            'suggestCharts', [key], {});\n",
              "      } catch (error) {\n",
              "        console.error('Error during call to suggestCharts:', error);\n",
              "      }\n",
              "      quickchartButtonEl.classList.remove('colab-df-spinner');\n",
              "      quickchartButtonEl.classList.add('colab-df-quickchart-complete');\n",
              "    }\n",
              "    (() => {\n",
              "      let quickchartButtonEl =\n",
              "        document.querySelector('#df-6d18425e-1956-4ff0-b9ce-069b3f1972b2 button');\n",
              "      quickchartButtonEl.style.display =\n",
              "        google.colab.kernel.accessAllowed ? 'block' : 'none';\n",
              "    })();\n",
              "  </script>\n",
              "</div>\n",
              "    </div>\n",
              "  </div>\n"
            ]
          },
          "metadata": {},
          "execution_count": 21
        }
      ]
    },
    {
      "cell_type": "code",
      "source": [
        "from sklearn.model_selection import train_test_split\n",
        "\n",
        "X = df['text']\n",
        "y = df['emotion']\n",
        "\n",
        "## Split firstly to train-full and test.\n",
        "## Shuffling is false to not shuffle -> As we concat the 3 DF below each other in the begining of the notebook\n",
        "X_train_full, X_test, y_train_full, y_test = train_test_split(X, y, test_size=0.1, random_state=42, shuffle=False)\n",
        "\n",
        "## Split again to train and valid\n",
        "X_train, X_valid, y_train, y_valid = train_test_split(X_train_full, y_train_full, test_size=0.1, random_state=42, shuffle=False)"
      ],
      "metadata": {
        "id": "7FKO9RkY4JEJ"
      },
      "execution_count": 22,
      "outputs": []
    },
    {
      "cell_type": "code",
      "source": [
        "X_train.shape, y_train.shape"
      ],
      "metadata": {
        "colab": {
          "base_uri": "https://localhost:8080/"
        },
        "id": "in9cCMwZmJH9",
        "outputId": "f3590493-1817-4563-c611-03f1e0cb3d3b"
      },
      "execution_count": 23,
      "outputs": [
        {
          "output_type": "execute_result",
          "data": {
            "text/plain": [
              "((16200,), (16200,))"
            ]
          },
          "metadata": {},
          "execution_count": 23
        }
      ]
    },
    {
      "cell_type": "code",
      "source": [
        "X_valid.shape, y_valid.shape"
      ],
      "metadata": {
        "colab": {
          "base_uri": "https://localhost:8080/"
        },
        "id": "n9tpo48knDHE",
        "outputId": "be3aea2a-8940-4c2a-b2dd-6e1cdb63a6c7"
      },
      "execution_count": 24,
      "outputs": [
        {
          "output_type": "execute_result",
          "data": {
            "text/plain": [
              "((1800,), (1800,))"
            ]
          },
          "metadata": {},
          "execution_count": 24
        }
      ]
    },
    {
      "cell_type": "code",
      "source": [
        "X_test.shape, y_test.shape"
      ],
      "metadata": {
        "colab": {
          "base_uri": "https://localhost:8080/"
        },
        "id": "7ToTC0nQmLiQ",
        "outputId": "31e6480c-59c3-4d5b-a05f-e0981a553a99"
      },
      "execution_count": 25,
      "outputs": [
        {
          "output_type": "execute_result",
          "data": {
            "text/plain": [
              "((2000,), (2000,))"
            ]
          },
          "metadata": {},
          "execution_count": 25
        }
      ]
    },
    {
      "cell_type": "markdown",
      "source": [
        "# Normalization"
      ],
      "metadata": {
        "id": "RdpyTdDl8U2T"
      }
    },
    {
      "cell_type": "code",
      "source": [
        "import nltk\n",
        "nltk.download('wordnet')"
      ],
      "metadata": {
        "colab": {
          "base_uri": "https://localhost:8080/"
        },
        "id": "OFSILgoj9SRP",
        "outputId": "9296be65-4389-4abc-ff26-3b936d53da86"
      },
      "execution_count": 26,
      "outputs": [
        {
          "output_type": "stream",
          "name": "stderr",
          "text": [
            "[nltk_data] Downloading package wordnet to /root/nltk_data...\n"
          ]
        },
        {
          "output_type": "execute_result",
          "data": {
            "text/plain": [
              "True"
            ]
          },
          "metadata": {},
          "execution_count": 26
        }
      ]
    },
    {
      "cell_type": "code",
      "source": [
        "from nltk.stem import WordNetLemmatizer\n",
        "from nltk.tokenize import RegexpTokenizer\n",
        "from nltk import word_tokenize\n",
        "from nltk import PorterStemmer, WordNetLemmatizer\n",
        "from keras.preprocessing.text import Tokenizer"
      ],
      "metadata": {
        "id": "W-yxHr8T9kNj"
      },
      "execution_count": 27,
      "outputs": []
    },
    {
      "cell_type": "markdown",
      "source": [
        "### Tokenization"
      ],
      "metadata": {
        "id": "yZXjZeUa3C9x"
      }
    },
    {
      "cell_type": "code",
      "source": [
        "tokenizer = Tokenizer(num_words=5000)\n",
        "\n",
        "tweet = dataset.text.values\n",
        "tokenizer.fit_on_texts(tweet)"
      ],
      "metadata": {
        "id": "YgXRNgbQ8T8w"
      },
      "execution_count": 28,
      "outputs": []
    },
    {
      "cell_type": "code",
      "source": [
        "## Tokenization\n",
        "tokenized_tweet = dataset['text'].apply(lambda x: x.split())\n",
        "tokenized_tweet.head()"
      ],
      "metadata": {
        "colab": {
          "base_uri": "https://localhost:8080/"
        },
        "id": "B5ohYMsO902q",
        "outputId": "e2f3dedf-a23c-4298-c327-f20b1d7b2d73"
      },
      "execution_count": 29,
      "outputs": [
        {
          "output_type": "execute_result",
          "data": {
            "text/plain": [
              "0                         [i, didnt, feel, humiliated]\n",
              "1    [i, can, go, from, feeling, so, hopeless, to, ...\n",
              "2    [im, grabbing, a, minute, to, post, i, feel, g...\n",
              "3    [i, am, ever, feeling, nostalgic, about, the, ...\n",
              "4                            [i, am, feeling, grouchy]\n",
              "Name: text, dtype: object"
            ]
          },
          "metadata": {},
          "execution_count": 29
        }
      ]
    },
    {
      "cell_type": "code",
      "source": [
        "num_words = len(tokenizer.word_index) + 1\n",
        "print(num_words)"
      ],
      "metadata": {
        "colab": {
          "base_uri": "https://localhost:8080/"
        },
        "id": "KxHDIzGE8h49",
        "outputId": "9229d970-a4a4-4802-cea9-8fdbf84e083f"
      },
      "execution_count": 30,
      "outputs": [
        {
          "output_type": "stream",
          "name": "stdout",
          "text": [
            "17097\n"
          ]
        }
      ]
    },
    {
      "cell_type": "markdown",
      "source": [
        "## Stemming"
      ],
      "metadata": {
        "id": "u06n7WlY8jFj"
      }
    },
    {
      "cell_type": "code",
      "source": [
        "from nltk.stem import PorterStemmer\n",
        "\n",
        "def stemming(texts):\n",
        "    stemmer = PorterStemmer()\n",
        "    stemmed = []\n",
        "    for word in texts.split():\n",
        "        stemmed.append(stemmer.stem(word))\n",
        "    return \" \".join(stemmed)\n",
        "\n",
        "X_train = X_train.map(stemming)\n",
        "X_test = X_test.map(stemming)"
      ],
      "metadata": {
        "id": "dCqmoWEU8rdk"
      },
      "execution_count": 31,
      "outputs": []
    },
    {
      "cell_type": "code",
      "source": [
        "## Stemming\n",
        "stemmer = PorterStemmer()\n",
        "\n",
        "tokenized_tweet = tokenized_tweet.apply(lambda x: [stemmer.stem(i) for i in x]) # stemming\n",
        "tokenized_tweet.head()"
      ],
      "metadata": {
        "colab": {
          "base_uri": "https://localhost:8080/"
        },
        "id": "oNPSmkeX9-gT",
        "outputId": "a17fa023-4df3-4012-ca37-fd40f67579a2"
      },
      "execution_count": 32,
      "outputs": [
        {
          "output_type": "execute_result",
          "data": {
            "text/plain": [
              "0                             [i, didnt, feel, humili]\n",
              "1    [i, can, go, from, feel, so, hopeless, to, so,...\n",
              "2    [im, grab, a, minut, to, post, i, feel, greedi...\n",
              "3    [i, am, ever, feel, nostalg, about, the, firep...\n",
              "4                               [i, am, feel, grouchi]\n",
              "Name: text, dtype: object"
            ]
          },
          "metadata": {},
          "execution_count": 32
        }
      ]
    },
    {
      "cell_type": "markdown",
      "source": [
        "## Lemmatization"
      ],
      "metadata": {
        "id": "Rm1ihxx79IDk"
      }
    },
    {
      "cell_type": "code",
      "source": [
        "## Lemmatization\n",
        "lemmatizer = WordNetLemmatizer()\n",
        "tokenized_tweet = tokenized_tweet.apply(lambda x: [lemmatizer.lemmatize(i) for i in x])\n",
        "tokenized_tweet.head()"
      ],
      "metadata": {
        "colab": {
          "base_uri": "https://localhost:8080/"
        },
        "id": "L-Km0cZa9KPE",
        "outputId": "948413e8-d66b-4cb8-deb9-dc87a9a28cff"
      },
      "execution_count": 33,
      "outputs": [
        {
          "output_type": "execute_result",
          "data": {
            "text/plain": [
              "0                             [i, didnt, feel, humili]\n",
              "1    [i, can, go, from, feel, so, hopeless, to, so,...\n",
              "2    [im, grab, a, minut, to, post, i, feel, greedi...\n",
              "3    [i, am, ever, feel, nostalg, about, the, firep...\n",
              "4                               [i, am, feel, grouchi]\n",
              "Name: text, dtype: object"
            ]
          },
          "metadata": {},
          "execution_count": 33
        }
      ]
    },
    {
      "cell_type": "code",
      "source": [
        "from keras.preprocessing.sequence import pad_sequences\n",
        "X_train = tokenizer.texts_to_sequences(X_train) # this converts texts into some numeric sequences\n",
        "X_train_pad = pad_sequences(X_train, maxlen=300, padding='post') # this makes the length of all numeric sequences equal\n",
        "\n",
        "X_valid = tokenizer.texts_to_sequences(X_valid)\n",
        "X_valid_pad = pad_sequences(X_valid, maxlen = 300, padding = 'post')\n",
        "\n",
        "X_test = tokenizer.texts_to_sequences(X_test)\n",
        "X_test_pad = pad_sequences(X_test, maxlen = 300, padding = 'post')"
      ],
      "metadata": {
        "id": "qE1i6-nz-rnB"
      },
      "execution_count": 34,
      "outputs": []
    },
    {
      "cell_type": "code",
      "source": [
        "X_train_pad.shape, y_train.shape"
      ],
      "metadata": {
        "colab": {
          "base_uri": "https://localhost:8080/"
        },
        "id": "aSjpcLe9mgni",
        "outputId": "9df04cff-f4c9-419a-b7cc-32aa91560085"
      },
      "execution_count": 35,
      "outputs": [
        {
          "output_type": "execute_result",
          "data": {
            "text/plain": [
              "((16200, 300), (16200,))"
            ]
          },
          "metadata": {},
          "execution_count": 35
        }
      ]
    },
    {
      "cell_type": "code",
      "source": [
        "X_valid_pad.shape, y_valid.shape"
      ],
      "metadata": {
        "colab": {
          "base_uri": "https://localhost:8080/"
        },
        "id": "HicaXD08ml4L",
        "outputId": "e72b004c-dd3c-451d-edbd-918c4ac9b202"
      },
      "execution_count": 36,
      "outputs": [
        {
          "output_type": "execute_result",
          "data": {
            "text/plain": [
              "((1800, 300), (1800,))"
            ]
          },
          "metadata": {},
          "execution_count": 36
        }
      ]
    },
    {
      "cell_type": "code",
      "source": [
        "X_test_pad.shape, y_test.shape"
      ],
      "metadata": {
        "colab": {
          "base_uri": "https://localhost:8080/"
        },
        "id": "eB0trP6hmj0d",
        "outputId": "fe8f5cf0-91a5-4de5-8296-e6794f4e7fb2"
      },
      "execution_count": 37,
      "outputs": [
        {
          "output_type": "execute_result",
          "data": {
            "text/plain": [
              "((2000, 300), (2000,))"
            ]
          },
          "metadata": {},
          "execution_count": 37
        }
      ]
    },
    {
      "cell_type": "markdown",
      "source": [
        "# Word2vec"
      ],
      "metadata": {
        "id": "VZ3Vn15l_M-7"
      }
    },
    {
      "cell_type": "code",
      "source": [
        "#pip install gensim\n",
        "import gensim.downloader as api\n",
        "glove_gensim  = api.load('glove-wiki-gigaword-100') #100 dimension"
      ],
      "metadata": {
        "id": "cxXQdWgG_P8p",
        "colab": {
          "base_uri": "https://localhost:8080/"
        },
        "outputId": "ecdef192-f635-4537-eda4-eac5bbf610b1"
      },
      "execution_count": 38,
      "outputs": [
        {
          "output_type": "stream",
          "name": "stdout",
          "text": [
            "[==================================================] 100.0% 128.1/128.1MB downloaded\n"
          ]
        }
      ]
    },
    {
      "cell_type": "code",
      "source": [
        "vector_size = 100\n",
        "gensim_weight_matrix = np.zeros((num_words ,vector_size))\n",
        "gensim_weight_matrix.shape\n",
        "for word, index in tokenizer.word_index.items():\n",
        "    if index < num_words: # since index starts with zero\n",
        "        if word in glove_gensim.key_to_index:\n",
        "            gensim_weight_matrix[index] = glove_gensim[word]\n",
        "        else:\n",
        "            gensim_weight_matrix[index] = np.zeros(100)"
      ],
      "metadata": {
        "id": "RI_OR0NG_ppG"
      },
      "execution_count": 39,
      "outputs": []
    },
    {
      "cell_type": "markdown",
      "source": [
        "# Modeling & Evaluation"
      ],
      "metadata": {
        "id": "Dj2XxZMg_06L"
      }
    },
    {
      "cell_type": "code",
      "source": [
        "from tensorflow.keras.layers import LSTM, Dense, Dropout, Embedding, Bidirectional\n",
        "from tensorflow.keras.models import Sequential"
      ],
      "metadata": {
        "id": "uJiyF-SiljTj"
      },
      "execution_count": 40,
      "outputs": []
    },
    {
      "cell_type": "code",
      "source": [
        "# Assuming other constants and variables are defined\n",
        "EMBEDDING_DIM = 100\n",
        "class_num = 6\n",
        "\n",
        "model = Sequential()\n",
        "model.add(Embedding(input_dim=num_words,\n",
        "                    output_dim=EMBEDDING_DIM,\n",
        "                    input_length=X_train_pad.shape[1],\n",
        "                    weights=[gensim_weight_matrix],\n",
        "                    trainable=False))\n",
        "model.add(Dropout(0.2))\n",
        "model.add(Bidirectional(LSTM(100, return_sequences=True)))\n",
        "model.add(Dropout(0.2))\n",
        "model.add(Bidirectional(LSTM(200, return_sequences=True)))\n",
        "model.add(Dropout(0.2))\n",
        "model.add(Bidirectional(LSTM(100, return_sequences=False)))\n",
        "model.add(Dense(class_num, activation='softmax'))\n",
        "model.compile(loss='sparse_categorical_crossentropy', optimizer='adam', metrics=['accuracy'])\n",
        "\n",
        "print(model.summary())\n"
      ],
      "metadata": {
        "id": "MszlKLnBAHX0",
        "colab": {
          "base_uri": "https://localhost:8080/"
        },
        "outputId": "8fb83a6f-b126-4b57-dbac-a8f100441b81"
      },
      "execution_count": 41,
      "outputs": [
        {
          "output_type": "stream",
          "name": "stdout",
          "text": [
            "Model: \"sequential\"\n",
            "_________________________________________________________________\n",
            " Layer (type)                Output Shape              Param #   \n",
            "=================================================================\n",
            " embedding (Embedding)       (None, 300, 100)          1709700   \n",
            "                                                                 \n",
            " dropout (Dropout)           (None, 300, 100)          0         \n",
            "                                                                 \n",
            " bidirectional (Bidirection  (None, 300, 200)          160800    \n",
            " al)                                                             \n",
            "                                                                 \n",
            " dropout_1 (Dropout)         (None, 300, 200)          0         \n",
            "                                                                 \n",
            " bidirectional_1 (Bidirecti  (None, 300, 400)          641600    \n",
            " onal)                                                           \n",
            "                                                                 \n",
            " dropout_2 (Dropout)         (None, 300, 400)          0         \n",
            "                                                                 \n",
            " bidirectional_2 (Bidirecti  (None, 200)               400800    \n",
            " onal)                                                           \n",
            "                                                                 \n",
            " dense (Dense)               (None, 6)                 1206      \n",
            "                                                                 \n",
            "=================================================================\n",
            "Total params: 2914106 (11.12 MB)\n",
            "Trainable params: 1204406 (4.59 MB)\n",
            "Non-trainable params: 1709700 (6.52 MB)\n",
            "_________________________________________________________________\n",
            "None\n"
          ]
        }
      ]
    },
    {
      "cell_type": "code",
      "source": [
        "#EarlyStopping and ModelCheckpoint\n",
        "from keras.callbacks import EarlyStopping, ModelCheckpoint\n",
        "es = EarlyStopping(monitor = 'val_loss', mode = 'min', verbose = 1, patience = 5)\n",
        "mc = ModelCheckpoint('./model.h5', monitor = 'val_accuracy', mode = 'max', verbose = 1, save_best_only = True)"
      ],
      "metadata": {
        "id": "3NfdGsWCBtDf"
      },
      "execution_count": 42,
      "outputs": []
    },
    {
      "cell_type": "code",
      "source": [
        "X_test_pad.shape, y_test.shape"
      ],
      "metadata": {
        "colab": {
          "base_uri": "https://localhost:8080/"
        },
        "id": "2E3aNXIEl3i1",
        "outputId": "b7379423-a7ae-4379-ecb1-3d55cf6b4f26"
      },
      "execution_count": 43,
      "outputs": [
        {
          "output_type": "execute_result",
          "data": {
            "text/plain": [
              "((2000, 300), (2000,))"
            ]
          },
          "metadata": {},
          "execution_count": 43
        }
      ]
    },
    {
      "cell_type": "code",
      "source": [
        "history_embedding = model.fit(X_train_pad, y_train,\n",
        "                                epochs = 25, batch_size = 64,\n",
        "                                validation_data=(X_valid_pad, y_valid),\n",
        "                                verbose = 1, callbacks= [es, mc])"
      ],
      "metadata": {
        "colab": {
          "base_uri": "https://localhost:8080/"
        },
        "id": "AocENfm8Blf4",
        "outputId": "ca32deb6-6a80-4cfe-ab37-4367a4ee1996"
      },
      "execution_count": 44,
      "outputs": [
        {
          "output_type": "stream",
          "name": "stdout",
          "text": [
            "Epoch 1/25\n",
            "254/254 [==============================] - ETA: 0s - loss: 1.5425 - accuracy: 0.3797\n",
            "Epoch 1: val_accuracy improved from -inf to 0.50889, saving model to ./model.h5\n",
            "254/254 [==============================] - 41s 117ms/step - loss: 1.5425 - accuracy: 0.3797 - val_loss: 1.3660 - val_accuracy: 0.5089\n",
            "Epoch 2/25\n",
            "  1/254 [..............................] - ETA: 24s - loss: 1.4497 - accuracy: 0.4531"
          ]
        },
        {
          "output_type": "stream",
          "name": "stderr",
          "text": [
            "/usr/local/lib/python3.10/dist-packages/keras/src/engine/training.py:3103: UserWarning: You are saving your model as an HDF5 file via `model.save()`. This file format is considered legacy. We recommend using instead the native Keras format, e.g. `model.save('my_model.keras')`.\n",
            "  saving_api.save_model(\n"
          ]
        },
        {
          "output_type": "stream",
          "name": "stdout",
          "text": [
            "254/254 [==============================] - ETA: 0s - loss: 1.4039 - accuracy: 0.4543\n",
            "Epoch 2: val_accuracy improved from 0.50889 to 0.59889, saving model to ./model.h5\n",
            "254/254 [==============================] - 27s 107ms/step - loss: 1.4039 - accuracy: 0.4543 - val_loss: 1.1602 - val_accuracy: 0.5989\n",
            "Epoch 3/25\n",
            "254/254 [==============================] - ETA: 0s - loss: 1.2767 - accuracy: 0.5080\n",
            "Epoch 3: val_accuracy improved from 0.59889 to 0.63944, saving model to ./model.h5\n",
            "254/254 [==============================] - 27s 107ms/step - loss: 1.2767 - accuracy: 0.5080 - val_loss: 1.1513 - val_accuracy: 0.6394\n",
            "Epoch 4/25\n",
            "254/254 [==============================] - ETA: 0s - loss: 1.1937 - accuracy: 0.5495\n",
            "Epoch 4: val_accuracy improved from 0.63944 to 0.68611, saving model to ./model.h5\n",
            "254/254 [==============================] - 28s 109ms/step - loss: 1.1937 - accuracy: 0.5495 - val_loss: 0.9870 - val_accuracy: 0.6861\n",
            "Epoch 5/25\n",
            "254/254 [==============================] - ETA: 0s - loss: 1.1466 - accuracy: 0.5670\n",
            "Epoch 5: val_accuracy improved from 0.68611 to 0.71056, saving model to ./model.h5\n",
            "254/254 [==============================] - 28s 111ms/step - loss: 1.1466 - accuracy: 0.5670 - val_loss: 0.8967 - val_accuracy: 0.7106\n",
            "Epoch 6/25\n",
            "254/254 [==============================] - ETA: 0s - loss: 1.1011 - accuracy: 0.5822\n",
            "Epoch 6: val_accuracy did not improve from 0.71056\n",
            "254/254 [==============================] - 28s 110ms/step - loss: 1.1011 - accuracy: 0.5822 - val_loss: 1.0460 - val_accuracy: 0.6828\n",
            "Epoch 7/25\n",
            "254/254 [==============================] - ETA: 0s - loss: 1.0677 - accuracy: 0.5940\n",
            "Epoch 7: val_accuracy improved from 0.71056 to 0.71667, saving model to ./model.h5\n",
            "254/254 [==============================] - 28s 109ms/step - loss: 1.0677 - accuracy: 0.5940 - val_loss: 0.8917 - val_accuracy: 0.7167\n",
            "Epoch 8/25\n",
            "254/254 [==============================] - ETA: 0s - loss: 1.0339 - accuracy: 0.6092\n",
            "Epoch 8: val_accuracy did not improve from 0.71667\n",
            "254/254 [==============================] - 28s 110ms/step - loss: 1.0339 - accuracy: 0.6092 - val_loss: 0.9461 - val_accuracy: 0.6933\n",
            "Epoch 9/25\n",
            "254/254 [==============================] - ETA: 0s - loss: 1.0116 - accuracy: 0.6143\n",
            "Epoch 9: val_accuracy improved from 0.71667 to 0.72000, saving model to ./model.h5\n",
            "254/254 [==============================] - 28s 110ms/step - loss: 1.0116 - accuracy: 0.6143 - val_loss: 0.8824 - val_accuracy: 0.7200\n",
            "Epoch 10/25\n",
            "254/254 [==============================] - ETA: 0s - loss: 0.9892 - accuracy: 0.6222\n",
            "Epoch 10: val_accuracy did not improve from 0.72000\n",
            "254/254 [==============================] - 28s 109ms/step - loss: 0.9892 - accuracy: 0.6222 - val_loss: 0.9729 - val_accuracy: 0.6933\n",
            "Epoch 11/25\n",
            "254/254 [==============================] - ETA: 0s - loss: 0.9696 - accuracy: 0.6309\n",
            "Epoch 11: val_accuracy did not improve from 0.72000\n",
            "254/254 [==============================] - 28s 109ms/step - loss: 0.9696 - accuracy: 0.6309 - val_loss: 1.0176 - val_accuracy: 0.7022\n",
            "Epoch 12/25\n",
            "254/254 [==============================] - ETA: 0s - loss: 0.9452 - accuracy: 0.6423\n",
            "Epoch 12: val_accuracy improved from 0.72000 to 0.72778, saving model to ./model.h5\n",
            "254/254 [==============================] - 28s 109ms/step - loss: 0.9452 - accuracy: 0.6423 - val_loss: 0.9048 - val_accuracy: 0.7278\n",
            "Epoch 13/25\n",
            "254/254 [==============================] - ETA: 0s - loss: 0.9261 - accuracy: 0.6430\n",
            "Epoch 13: val_accuracy did not improve from 0.72778\n",
            "254/254 [==============================] - 28s 109ms/step - loss: 0.9261 - accuracy: 0.6430 - val_loss: 0.9517 - val_accuracy: 0.7206\n",
            "Epoch 14/25\n",
            "254/254 [==============================] - ETA: 0s - loss: 0.9107 - accuracy: 0.6507\n",
            "Epoch 14: val_accuracy did not improve from 0.72778\n",
            "254/254 [==============================] - 28s 109ms/step - loss: 0.9107 - accuracy: 0.6507 - val_loss: 1.1180 - val_accuracy: 0.6906\n",
            "Epoch 14: early stopping\n"
          ]
        }
      ]
    },
    {
      "cell_type": "code",
      "source": [
        "from sklearn.metrics import classification_report"
      ],
      "metadata": {
        "id": "w-u7SBSrpfcV"
      },
      "execution_count": 45,
      "outputs": []
    },
    {
      "cell_type": "code",
      "source": [
        "## Finally, evaluate on test dataset\n",
        "y_pred_test = np.argmax(model.predict(X_test_pad), axis=-1)\n",
        "print(classification_report(y_pred_test, y_test))"
      ],
      "metadata": {
        "id": "xVcUym2HCrrU",
        "colab": {
          "base_uri": "https://localhost:8080/"
        },
        "outputId": "5a973b61-ead2-40d9-9653-859011b4f8da"
      },
      "execution_count": 46,
      "outputs": [
        {
          "output_type": "stream",
          "name": "stdout",
          "text": [
            "63/63 [==============================] - 4s 29ms/step\n",
            "              precision    recall  f1-score   support\n",
            "\n",
            "           0       0.47      0.63      0.53       204\n",
            "           1       0.45      0.46      0.45       219\n",
            "           2       0.70      0.66      0.68       737\n",
            "           3       0.50      0.57      0.53       141\n",
            "           4       0.68      0.57      0.62       690\n",
            "           5       0.08      0.56      0.13         9\n",
            "\n",
            "    accuracy                           0.60      2000\n",
            "   macro avg       0.48      0.57      0.49      2000\n",
            "weighted avg       0.63      0.60      0.61      2000\n",
            "\n"
          ]
        }
      ]
    },
    {
      "cell_type": "code",
      "source": [
        "## inference on new sample\n",
        "new_samples = ['feel weird when have meet peopl text like dont talk face face',\n",
        "              'feel that use peopl that give great feel achiev']\n",
        "\n",
        "\n",
        "## Tokenize and pad the new samples\n",
        "X_new_samples = tokenizer.texts_to_sequences(new_samples)\n",
        "X_new_samples_pad = pad_sequences(X_new_samples, maxlen=300, padding='post')\n",
        "\n",
        "\n",
        "# Predict probabilities for each class\n",
        "pred_probs = model.predict(X_new_samples_pad)\n",
        "pred_labels = pred_probs.argmax(axis=-1)\n",
        "\n",
        "## Finally, Inverse transform using LabelEncoder\n",
        "pred_labels = lbl_enc.inverse_transform(pred_labels)\n",
        "pred_labels"
      ],
      "metadata": {
        "colab": {
          "base_uri": "https://localhost:8080/"
        },
        "id": "e6q7ak7iph6R",
        "outputId": "4b26ada2-5e5e-4e97-bdfb-8a239469a81e"
      },
      "execution_count": 47,
      "outputs": [
        {
          "output_type": "stream",
          "name": "stdout",
          "text": [
            "1/1 [==============================] - 0s 56ms/step\n"
          ]
        },
        {
          "output_type": "execute_result",
          "data": {
            "text/plain": [
              "array(['fear', 'joy'], dtype=object)"
            ]
          },
          "metadata": {},
          "execution_count": 47
        }
      ]
    }
  ]
}